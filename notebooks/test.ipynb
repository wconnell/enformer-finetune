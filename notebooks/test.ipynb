{
 "cells": [
  {
   "cell_type": "code",
   "execution_count": 1,
   "metadata": {},
   "outputs": [
    {
     "name": "stdout",
     "output_type": "stream",
     "text": [
      "  % Total    % Received % Xferd  Average Speed   Time    Time     Time  Current\n",
      "                                 Dload  Upload   Total   Spent    Left  Speed\n",
      "  0     0    0     0    0     0      0      0 --:--:-- --:--:-- --:--:--     0\n",
      "100 20.1M  100 20.1M    0     0   752k      0  0:00:27  0:00:27 --:--:--  766k0   984k      0  0:00:20  0:00:10  0:00:10 1091k\n"
     ]
    }
   ],
   "source": [
    "!curl -L https://github.com/lucidrains/enformer-pytorch/raw/main/data/test-sample.pt -o data/test-sample.pt"
   ]
  },
  {
   "cell_type": "code",
   "execution_count": 1,
   "metadata": {},
   "outputs": [],
   "source": [
    "import os\n",
    "os.environ['PYTORCH_ENABLE_MPS_FALLBACK'] = \"1\""
   ]
  },
  {
   "cell_type": "code",
   "execution_count": 2,
   "metadata": {},
   "outputs": [
    {
     "name": "stderr",
     "output_type": "stream",
     "text": [
      "/Users/williamconnell/miniconda3/envs/eft/lib/python3.11/site-packages/tqdm/auto.py:21: TqdmWarning: IProgress not found. Please update jupyter and ipywidgets. See https://ipywidgets.readthedocs.io/en/stable/user_install.html\n",
      "  from .autonotebook import tqdm as notebook_tqdm\n"
     ]
    }
   ],
   "source": [
    "import pandas as pd\n",
    "import numpy as np\n",
    "from pathlib import Path\n",
    "\n",
    "import torch\n",
    "from torch.utils.data.dataloader import DataLoader\n",
    "from torch.utils.data import TensorDataset\n",
    "from torch.cuda.amp import autocast, GradScaler\n",
    "from enformer_pytorch import Enformer, GenomeIntervalDataset\n",
    "\n",
    "import kipoiseq\n",
    "import seaborn as sns\n",
    "import matplotlib.pyplot as plt"
   ]
  },
  {
   "cell_type": "code",
   "execution_count": 3,
   "metadata": {},
   "outputs": [
    {
     "name": "stdout",
     "output_type": "stream",
     "text": [
      "Running on MPS: mps\n"
     ]
    }
   ],
   "source": [
    "if torch.backends.mps.is_available():\n",
    "    device = torch.device(\"mps\")\n",
    "    print(\"Running on MPS:\", device)\n",
    "elif torch.cuda.is_available():\n",
    "    device = torch.device(\"cuda\")\n",
    "    print(\"Running on GPU:\", device)\n",
    "else:\n",
    "    device = torch.device(\"cpu\")\n",
    "    print(\"Running on CPU:\", device)"
   ]
  },
  {
   "cell_type": "code",
   "execution_count": 4,
   "metadata": {},
   "outputs": [],
   "source": [
    "TEST_MODEL = False\n",
    "\n",
    "if TEST_MODEL:\n",
    "  enformer = Enformer.from_pretrained('EleutherAI/enformer-official-rough').to(device)\n",
    "  data = torch.load('data/test-sample.pt', map_location=device)\n",
    "  seq, target = data['sequence'].to(device), data['target'].to(device)\n",
    "\n",
    "  with torch.no_grad():\n",
    "      corr_coef = enformer(\n",
    "          seq,\n",
    "          target = target,\n",
    "          return_corr_coef = True,\n",
    "          head = 'human'\n",
    "      )\n",
    "\n",
    "  print(corr_coef)\n",
    "  assert corr_coef > 0.1"
   ]
  },
  {
   "cell_type": "code",
   "execution_count": 27,
   "metadata": {},
   "outputs": [
    {
     "data": {
      "text/plain": [
       "torch.Size([19993, 896, 1])"
      ]
     },
     "execution_count": 27,
     "metadata": {},
     "output_type": "execute_result"
    },
    {
     "data": {
      "text/plain": [
       "(19993, 4)"
      ]
     },
     "execution_count": 27,
     "metadata": {},
     "output_type": "execute_result"
    }
   ],
   "source": [
    "target.shape\n",
    "seq_data.shape"
   ]
  },
  {
   "cell_type": "code",
   "execution_count": 29,
   "metadata": {},
   "outputs": [
    {
     "data": {
      "text/plain": [
       "torch.Size([19993, 896, 1])"
      ]
     },
     "execution_count": 29,
     "metadata": {},
     "output_type": "execute_result"
    }
   ],
   "source": [
    "import pandas as pd\n",
    "import numpy as np\n",
    "from datetime import datetime\n",
    "from pathlib import Path\n",
    "\n",
    "def avg_bin(array, n_bins):\n",
    "    splitted = np.array_split(array, n_bins)\n",
    "    binned_array = [np.mean(a) for a in splitted]\n",
    "    return binned_array\n",
    "\n",
    "# Data\n",
    "# data_path = Path(\"data/\")\n",
    "seq_data = pd.read_pickle(\"../data/processed/PROMOTERS.pkl\")\n",
    "\n",
    "# Target\n",
    "target = seq_data['values']\n",
    "target = torch.stack([torch.tensor(i) for i in target]).unsqueeze(-1)\n",
    "target.shape\n",
    "\n",
    "\n",
    "# DataLoaders\n",
    "batch_size = 4 # T4 only enough memory for 1 batch size\n",
    "\n",
    "seq_ds = GenomeIntervalDataset(\n",
    "    bed_file = '../data/processed/PROMOTERS.bed',                       # bed file - columns 0, 1, 2 must be <chromosome>, <start position>, <end position>\n",
    "    fasta_file = '../data/hg38.fa',                        # path to fasta file\n",
    "    return_seq_indices = True,                          # return nucleotide indices (ACGTN) or one hot encodings\n",
    "    context_length = 196_608,\n",
    ")\n",
    "\n",
    "seq_dl = DataLoader(seq_ds, batch_size=batch_size, shuffle=False)\n",
    "\n",
    "target_ds = TensorDataset(target)\n",
    "target_dl = DataLoader(target_ds, batch_size=batch_size, shuffle=False)"
   ]
  },
  {
   "cell_type": "code",
   "execution_count": 47,
   "metadata": {},
   "outputs": [
    {
     "data": {
      "text/plain": [
       "torch.Size([4, 196608])"
      ]
     },
     "execution_count": 47,
     "metadata": {},
     "output_type": "execute_result"
    },
    {
     "data": {
      "text/plain": [
       "torch.Size([4, 896, 1])"
      ]
     },
     "execution_count": 47,
     "metadata": {},
     "output_type": "execute_result"
    }
   ],
   "source": [
    "seq_batch.shape\n",
    "target_batch.shape"
   ]
  },
  {
   "cell_type": "code",
   "execution_count": null,
   "metadata": {},
   "outputs": [],
   "source": [
    "from enformer_pytorch.finetune import HeadAdapterWrapper\n",
    "\n",
    "# Training loop\n",
    "model_path = Path(\"../models/\")\n",
    "\n",
    "# Setup paths\n",
    "now = datetime.now()\n",
    "formatted_date_time = now.strftime(\"%Y-%m-%d_%H-%M-%S\")\n",
    "\n",
    "folder_path = model_path.joinpath(formatted_date_time)\n",
    "folder_path.mkdir(parents=True, exist_ok=True)\n",
    "\n",
    "# Model\n",
    "enformer = Enformer.from_pretrained('EleutherAI/enformer-official-rough')\n",
    "enformer = HeadAdapterWrapper(\n",
    "    enformer=enformer,\n",
    "    num_tracks=1,\n",
    "    post_transformer_embed=False\n",
    ").to(device)\n",
    "_ = enformer.train()\n",
    "\n",
    "scaler = GradScaler()\n",
    "optimizer = torch.optim.Adam(enformer.parameters(), lr=0.0001)\n",
    "losses = []\n",
    "\n",
    "num_epochs = 20\n",
    "accumulation_steps = 8 # effective batch_size*accumulation_steps\n",
    "\n",
    "for epoch in range(num_epochs):\n",
    "  for idx, (seq_batch, (target_batch,)) in enumerate(zip(seq_dl, target_dl)):\n",
    "    seq_batch = seq_batch.to(dtype=torch.float32, device=device)\n",
    "    target_batch = target_batch.to(dtype=torch.float32, device=device)\n",
    "    \n",
    "    with autocast():\n",
    "      # Forward pass\n",
    "      loss = enformer(seq_batch, target=target_batch)\n",
    "\n",
    "    # Backward pass\n",
    "    scaler.scale(loss).backward()\n",
    "\n",
    "    losses.append(loss.item())\n",
    "\n",
    "    # Gradient accumulation\n",
    "    scaler.step(optimizer)\n",
    "    scaler.update()\n",
    "    optimizer.zero_grad()\n",
    "\n",
    "  print(f\"Epoch [{epoch+1}/{num_epochs}], Step [{idx+1}/{len(seq_dl)}], Loss: {loss.item():.4f}\")\n",
    "  # Save model (optional)\n",
    "  model_path = folder_path.joinpath(f'enformer-ft_epoch={epoch}_loss={loss:.4f}.pth')\n",
    "  torch.save(enformer.state_dict(), model_path)"
   ]
  },
  {
   "cell_type": "code",
   "execution_count": null,
   "metadata": {},
   "outputs": [],
   "source": []
  }
 ],
 "metadata": {
  "kernelspec": {
   "display_name": "eft",
   "language": "python",
   "name": "python3"
  },
  "language_info": {
   "codemirror_mode": {
    "name": "ipython",
    "version": 3
   },
   "file_extension": ".py",
   "mimetype": "text/x-python",
   "name": "python",
   "nbconvert_exporter": "python",
   "pygments_lexer": "ipython3",
   "version": "3.11.6"
  },
  "orig_nbformat": 4
 },
 "nbformat": 4,
 "nbformat_minor": 2
}
