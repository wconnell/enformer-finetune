{
 "cells": [
  {
   "cell_type": "code",
   "execution_count": 1,
   "metadata": {},
   "outputs": [],
   "source": [
    "# !curl -L https://github.com/lucidrains/enformer-pytorch/raw/main/data/test-sample.pt -o data/test-sample.pt"
   ]
  },
  {
   "cell_type": "code",
   "execution_count": 1,
   "metadata": {},
   "outputs": [],
   "source": [
    "import os\n",
    "os.environ['PYTORCH_ENABLE_MPS_FALLBACK'] = \"1\""
   ]
  },
  {
   "cell_type": "code",
   "execution_count": 2,
   "metadata": {},
   "outputs": [
    {
     "name": "stderr",
     "output_type": "stream",
     "text": [
      "/Users/williamconnell/miniconda3/envs/eft/lib/python3.11/site-packages/tqdm/auto.py:21: TqdmWarning: IProgress not found. Please update jupyter and ipywidgets. See https://ipywidgets.readthedocs.io/en/stable/user_install.html\n",
      "  from .autonotebook import tqdm as notebook_tqdm\n"
     ]
    }
   ],
   "source": [
    "import pandas as pd\n",
    "import numpy as np\n",
    "from pathlib import Path\n",
    "\n",
    "import torch\n",
    "from torch.utils.data.dataloader import DataLoader\n",
    "from torch.utils.data import TensorDataset\n",
    "from torch.cuda.amp import autocast, GradScaler\n",
    "from enformer_pytorch import Enformer, GenomeIntervalDataset\n",
    "\n",
    "import kipoiseq\n",
    "import seaborn as sns\n",
    "import matplotlib.pyplot as plt"
   ]
  },
  {
   "cell_type": "code",
   "execution_count": 5,
   "metadata": {},
   "outputs": [
    {
     "name": "stdout",
     "output_type": "stream",
     "text": [
      "Running on MPS: mps\n"
     ]
    }
   ],
   "source": [
    "if torch.backends.mps.is_available():\n",
    "    device = torch.device(\"mps\")\n",
    "    print(\"Running on MPS:\", device)\n",
    "elif torch.cuda.is_available():\n",
    "    device = torch.device(\"cuda\")\n",
    "    print(\"Running on GPU:\", device)\n",
    "else:\n",
    "    device = torch.device(\"cpu\")\n",
    "    print(\"Running on CPU:\", device)"
   ]
  },
  {
   "cell_type": "code",
   "execution_count": 5,
   "metadata": {},
   "outputs": [],
   "source": [
    "TEST_MODEL = False\n",
    "\n",
    "if TEST_MODEL:\n",
    "    enformer = Enformer.from_pretrained('EleutherAI/enformer-official-rough').to(device)\n",
    "    data = torch.load('../data/test-sample.pt', map_location=device)\n",
    "    seq, target = data['sequence'].to(device), data['target'].to(device)\n",
    "\n",
    "    with torch.no_grad():\n",
    "        corr_coef = enformer(\n",
    "            seq,\n",
    "            target = target,\n",
    "            return_corr_coef = True,\n",
    "            head = 'human'\n",
    "        )\n",
    "\n",
    "    print(corr_coef)\n",
    "    assert corr_coef > 0.1"
   ]
  },
  {
   "cell_type": "code",
   "execution_count": 3,
   "metadata": {},
   "outputs": [],
   "source": [
    "import pandas as pd\n",
    "import numpy as np\n",
    "from datetime import datetime\n",
    "from pathlib import Path\n",
    "\n",
    "def avg_bin(array, n_bins):\n",
    "    splitted = np.array_split(array, n_bins)\n",
    "    binned_array = [np.mean(a) for a in splitted]\n",
    "    return binned_array\n",
    "\n",
    "# Data\n",
    "seq_data = pd.read_pickle(\"../data/processed/PROMOTERS.pkl\")\n",
    "\n",
    "# Target\n",
    "target = seq_data['values']\n",
    "target = torch.stack([torch.tensor(i) for i in target]).unsqueeze(-1)\n",
    "\n",
    "\n",
    "# DataLoaders\n",
    "batch_size = 1 # T4 only enough memory for 1 batch size\n",
    "\n",
    "seq_ds = GenomeIntervalDataset(\n",
    "    bed_file = '../data/processed/PROMOTERS.bed',                       # bed file - columns 0, 1, 2 must be <chromosome>, <start position>, <end position>\n",
    "    fasta_file = '../data/hg38.fa',                        # path to fasta file\n",
    "    return_seq_indices = True,                          # return nucleotide indices (ACGTN) or one hot encodings\n",
    "    context_length = 196_608,\n",
    ")\n",
    "\n",
    "seq_dl = DataLoader(seq_ds, batch_size=batch_size, shuffle=False)\n",
    "\n",
    "target_ds = TensorDataset(target)\n",
    "target_dl = DataLoader(target_ds, batch_size=batch_size, shuffle=False)"
   ]
  },
  {
   "cell_type": "code",
   "execution_count": null,
   "metadata": {},
   "outputs": [],
   "source": [
    "from enformer_pytorch import seq_indices_to_one_hot # is this only neccessary for CPU and MPS??\n",
    "from enformer_pytorch.finetune import HeadAdapterWrapper\n",
    "from datetime import datetime\n",
    "from pathlib import Path\n",
    "from torch.cuda.amp import autocast, GradScaler\n",
    "import torch\n",
    "\n",
    "# Training loop\n",
    "model_path = Path(\"../test-models/\")\n",
    "\n",
    "# Setup paths\n",
    "now = datetime.now()\n",
    "formatted_date_time = now.strftime(\"%Y-%m-%d_%H-%M-%S\")\n",
    "folder_path = model_path.joinpath(formatted_date_time)\n",
    "folder_path.mkdir(parents=True, exist_ok=True)\n",
    "\n",
    "# Model\n",
    "enformer = Enformer.from_pretrained('EleutherAI/enformer-official-rough')\n",
    "enformer = HeadAdapterWrapper(\n",
    "    enformer=enformer,\n",
    "    num_tracks=1,\n",
    "    post_transformer_embed=False\n",
    ").to(device)\n",
    "_ = enformer.train()\n",
    "\n",
    "scaler = GradScaler()\n",
    "optimizer = torch.optim.Adam(enformer.parameters(), lr=0.0001)\n",
    "\n",
    "num_epochs = 1\n",
    "accumulation_steps = 1\n",
    "\n",
    "for epoch in range(num_epochs):\n",
    "    running_loss = 0.0  # Keep track of the running loss\n",
    "    for idx, (seq_batch, (target_batch,)) in enumerate(zip(seq_dl, target_dl)):\n",
    "        if device != 'cuda':\n",
    "            seq_batch = seq_indices_to_one_hot(seq_batch)\n",
    "        seq_batch = seq_batch.to(dtype=torch.float32, device=device)\n",
    "        target_batch = target_batch.to(dtype=torch.float32, device=device)\n",
    "        \n",
    "        with autocast():\n",
    "            # Forward pass\n",
    "            loss = enformer(seq_batch, target=target_batch)\n",
    "\n",
    "        # Backward pass\n",
    "        scaler.scale(loss).backward()\n",
    "\n",
    "        running_loss += loss.item()\n",
    "\n",
    "        if (idx + 1) % accumulation_steps == 0:  # Update every accumulation_steps\n",
    "            # Gradient accumulation\n",
    "            scaler.step(optimizer)\n",
    "            scaler.update()\n",
    "            optimizer.zero_grad()\n",
    "\n",
    "    avg_loss = running_loss / len(seq_dl)\n",
    "    print(f\"Epoch [{epoch+1}/{num_epochs}], Step [{idx+1}/{len(seq_dl)}], Avg Loss: {avg_loss:.4f}\")\n",
    "    \n",
    "    # Save model (optional)\n",
    "    model_path = folder_path.joinpath(f'enformer-ft_epoch={epoch}_loss={avg_loss:.4f}.pth')\n",
    "    torch.save(enformer.state_dict(), model_path)\n"
   ]
  },
  {
   "attachments": {},
   "cell_type": "markdown",
   "metadata": {},
   "source": [
    "## Testing modules"
   ]
  },
  {
   "cell_type": "code",
   "execution_count": 2,
   "metadata": {},
   "outputs": [],
   "source": [
    "from eft.data import CustomGenomeIntervalDataset"
   ]
  },
  {
   "cell_type": "code",
   "execution_count": 5,
   "metadata": {},
   "outputs": [
    {
     "data": {
      "text/html": [
       "<div>\n",
       "<style scoped>\n",
       "    .dataframe tbody tr th:only-of-type {\n",
       "        vertical-align: middle;\n",
       "    }\n",
       "\n",
       "    .dataframe tbody tr th {\n",
       "        vertical-align: top;\n",
       "    }\n",
       "\n",
       "    .dataframe thead th {\n",
       "        text-align: right;\n",
       "    }\n",
       "</style>\n",
       "<table border=\"1\" class=\"dataframe\">\n",
       "  <thead>\n",
       "    <tr style=\"text-align: right;\">\n",
       "      <th></th>\n",
       "      <th>0</th>\n",
       "      <th>1</th>\n",
       "      <th>2</th>\n",
       "      <th>3</th>\n",
       "    </tr>\n",
       "  </thead>\n",
       "  <tbody>\n",
       "    <tr>\n",
       "      <th>0</th>\n",
       "      <td>chr1</td>\n",
       "      <td>64419</td>\n",
       "      <td>66419</td>\n",
       "      <td>[0.0539362762208012, 0.0002493201924318617, 0....</td>\n",
       "    </tr>\n",
       "    <tr>\n",
       "      <th>1</th>\n",
       "      <td>chr1</td>\n",
       "      <td>450678</td>\n",
       "      <td>452678</td>\n",
       "      <td>[0.0, 0.0, 0.0, 0.0, 0.0, 0.0, 0.0, 0.0, 0.0, ...</td>\n",
       "    </tr>\n",
       "    <tr>\n",
       "      <th>2</th>\n",
       "      <td>chr1</td>\n",
       "      <td>685654</td>\n",
       "      <td>687654</td>\n",
       "      <td>[0.0, 0.0, 0.0, 0.0, 0.0, 0.0, 0.0, 0.0, 0.0, ...</td>\n",
       "    </tr>\n",
       "    <tr>\n",
       "      <th>3</th>\n",
       "      <td>chr1</td>\n",
       "      <td>922923</td>\n",
       "      <td>924923</td>\n",
       "      <td>[0.07061302648349242, 0.07809266664765098, 0.0...</td>\n",
       "    </tr>\n",
       "    <tr>\n",
       "      <th>4</th>\n",
       "      <td>chr1</td>\n",
       "      <td>958256</td>\n",
       "      <td>960256</td>\n",
       "      <td>[0.13313712802800265, 0.16205803697759455, 0.1...</td>\n",
       "    </tr>\n",
       "  </tbody>\n",
       "</table>\n",
       "</div>"
      ],
      "text/plain": [
       "      0       1       2                                                  3\n",
       "0  chr1   64419   66419  [0.0539362762208012, 0.0002493201924318617, 0....\n",
       "1  chr1  450678  452678  [0.0, 0.0, 0.0, 0.0, 0.0, 0.0, 0.0, 0.0, 0.0, ...\n",
       "2  chr1  685654  687654  [0.0, 0.0, 0.0, 0.0, 0.0, 0.0, 0.0, 0.0, 0.0, ...\n",
       "3  chr1  922923  924923  [0.07061302648349242, 0.07809266664765098, 0.0...\n",
       "4  chr1  958256  960256  [0.13313712802800265, 0.16205803697759455, 0.1..."
      ]
     },
     "execution_count": 5,
     "metadata": {},
     "output_type": "execute_result"
    }
   ],
   "source": [
    "prom = pd.read_csv('../data/processed/PROMOTERS.bed', sep='\\t', header=None)\n",
    "prom.sample(n=200, random_state=42).to_csv('../tests/data/train.bed', sep='\\t', header=None, index=False)\n",
    "prom.sample(n=10, random_state=42).to_csv('../tests/data/val.bed', sep='\\t', header=None, index=False)"
   ]
  },
  {
   "cell_type": "code",
   "execution_count": 3,
   "metadata": {},
   "outputs": [],
   "source": [
    "data_dir = Path('../data/processed')\n",
    "train = CustomGenomeIntervalDataset(\n",
    "    bed_file = data_dir.joinpath('PROMOTERS.bed'),\n",
    "    fasta_file = '../data/hg38.fa',\n",
    "    return_seq_indices = True,\n",
    "    context_length = 196_608,\n",
    ")"
   ]
  }
 ],
 "metadata": {
  "kernelspec": {
   "display_name": "eft",
   "language": "python",
   "name": "python3"
  },
  "language_info": {
   "codemirror_mode": {
    "name": "ipython",
    "version": 3
   },
   "file_extension": ".py",
   "mimetype": "text/x-python",
   "name": "python",
   "nbconvert_exporter": "python",
   "pygments_lexer": "ipython3",
   "version": "3.11.6"
  },
  "orig_nbformat": 4
 },
 "nbformat": 4,
 "nbformat_minor": 2
}
